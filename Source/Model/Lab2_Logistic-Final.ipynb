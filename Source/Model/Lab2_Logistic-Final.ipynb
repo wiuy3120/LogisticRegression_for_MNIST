{
 "cells": [
  {
   "cell_type": "markdown",
   "metadata": {
    "toc": true
   },
   "source": [
    "<h1>Table of Contents<span class=\"tocSkip\"></span></h1>\n",
    "<div class=\"toc\"><ul class=\"toc-item\"><li><span><a href=\"#Thông-tin-nhóm\" data-toc-modified-id=\"Thông-tin-nhóm-1\"><span class=\"toc-item-num\">1&nbsp;&nbsp;</span>Thông tin nhóm</a></span></li><li><span><a href=\"#Import-thư-viện\" data-toc-modified-id=\"Import-thư-viện-2\"><span class=\"toc-item-num\">2&nbsp;&nbsp;</span>Import thư viện</a></span></li><li><span><a href=\"#Tập-dữ-liệu-MNIST\" data-toc-modified-id=\"Tập-dữ-liệu-MNIST-3\"><span class=\"toc-item-num\">3&nbsp;&nbsp;</span>Tập dữ liệu MNIST</a></span><ul class=\"toc-item\"><li><span><a href=\"#Tải-tập-dữ-liệu\" data-toc-modified-id=\"Tải-tập-dữ-liệu-3.1\"><span class=\"toc-item-num\">3.1&nbsp;&nbsp;</span>Tải tập dữ liệu</a></span></li><li><span><a href=\"#In-25-hình-ảnh-đầu-tiên\" data-toc-modified-id=\"In-25-hình-ảnh-đầu-tiên-3.2\"><span class=\"toc-item-num\">3.2&nbsp;&nbsp;</span>In 25 hình ảnh đầu tiên</a></span></li></ul></li><li><span><a href=\"#Tiền-xử-lí-dữ-liệu\" data-toc-modified-id=\"Tiền-xử-lí-dữ-liệu-4\"><span class=\"toc-item-num\">4&nbsp;&nbsp;</span>Tiền xử lí dữ liệu</a></span><ul class=\"toc-item\"><li><span><a href=\"#Biến-đổi-dữ-liệu\" data-toc-modified-id=\"Biến-đổi-dữ-liệu-4.1\"><span class=\"toc-item-num\">4.1&nbsp;&nbsp;</span>Biến đổi dữ liệu</a></span></li><li><span><a href=\"#Xóa-những-điểm-ảnh-vô-nghĩa\" data-toc-modified-id=\"Xóa-những-điểm-ảnh-vô-nghĩa-4.2\"><span class=\"toc-item-num\">4.2&nbsp;&nbsp;</span>Xóa những điểm ảnh vô nghĩa</a></span><ul class=\"toc-item\"><li><span><a href=\"#Canh-giữa-ảnh-và-xóa-biên\" data-toc-modified-id=\"Canh-giữa-ảnh-và-xóa-biên-4.2.1\"><span class=\"toc-item-num\">4.2.1&nbsp;&nbsp;</span>Canh giữa ảnh và xóa biên</a></span></li><li><span><a href=\"#Xóa-bỏ-tất-cả-các-cột,-dòng-bằng-0-và-chỉnh-kích-thước-thành-28x28\" data-toc-modified-id=\"Xóa-bỏ-tất-cả-các-cột,-dòng-bằng-0-và-chỉnh-kích-thước-thành-28x28-4.2.2\"><span class=\"toc-item-num\">4.2.2&nbsp;&nbsp;</span>Xóa bỏ tất cả các cột, dòng bằng 0 và chỉnh kích thước thành 28x28</a></span></li></ul></li><li><span><a href=\"#Khắc-phục-hiện-tượng-đa-cộng-tuyến\" data-toc-modified-id=\"Khắc-phục-hiện-tượng-đa-cộng-tuyến-4.3\"><span class=\"toc-item-num\">4.3&nbsp;&nbsp;</span>Khắc phục hiện tượng đa cộng tuyến</a></span></li></ul></li><li><span><a href=\"#Huấn-luyện-mô-hình-Logistic\" data-toc-modified-id=\"Huấn-luyện-mô-hình-Logistic-5\"><span class=\"toc-item-num\">5&nbsp;&nbsp;</span>Huấn luyện mô hình Logistic</a></span><ul class=\"toc-item\"><li><span><a href=\"#Thử-nghiệm-1:-Huấn-luyện-mô-hình-không-xử-lí-dữ-liệu\" data-toc-modified-id=\"Thử-nghiệm-1:-Huấn-luyện-mô-hình-không-xử-lí-dữ-liệu-5.1\"><span class=\"toc-item-num\">5.1&nbsp;&nbsp;</span>Thử nghiệm 1: Huấn luyện mô hình không xử lí dữ liệu</a></span></li><li><span><a href=\"#Thử-nghiệm-2:-Huấn-luyện-mô-hình-sau-khi-canh-giữa-ảnh-và-cắt-biên\" data-toc-modified-id=\"Thử-nghiệm-2:-Huấn-luyện-mô-hình-sau-khi-canh-giữa-ảnh-và-cắt-biên-5.2\"><span class=\"toc-item-num\">5.2&nbsp;&nbsp;</span>Thử nghiệm 2: Huấn luyện mô hình sau khi canh giữa ảnh và cắt biên</a></span></li><li><span><a href=\"#Thử-nghiệm-3:-Huấn-luyện-mô-hình-sau-khi-loại-bỏ-các-dòng,-cột-bằng-0-và-chỉnh-kích-thước-lên-(28,-28)\" data-toc-modified-id=\"Thử-nghiệm-3:-Huấn-luyện-mô-hình-sau-khi-loại-bỏ-các-dòng,-cột-bằng-0-và-chỉnh-kích-thước-lên-(28,-28)-5.3\"><span class=\"toc-item-num\">5.3&nbsp;&nbsp;</span>Thử nghiệm 3: Huấn luyện mô hình sau khi loại bỏ các dòng, cột bằng 0 và chỉnh kích thước lên (28, 28)</a></span></li><li><span><a href=\"#Thử-nghiệm-4:-Huấn-luyện-mô-hình-sau-khi-PCA\" data-toc-modified-id=\"Thử-nghiệm-4:-Huấn-luyện-mô-hình-sau-khi-PCA-5.4\"><span class=\"toc-item-num\">5.4&nbsp;&nbsp;</span>Thử nghiệm 4: Huấn luyện mô hình sau khi PCA</a></span></li><li><span><a href=\"#Thử-nghiệm-5:-Kết-hợp-thử-nghiệm-3-với-4.\" data-toc-modified-id=\"Thử-nghiệm-5:-Kết-hợp-thử-nghiệm-3-với-4.-5.5\"><span class=\"toc-item-num\">5.5&nbsp;&nbsp;</span>Thử nghiệm 5: Kết hợp thử nghiệm 3 với 4.</a></span></li><li><span><a href=\"#Thử-nghiệm-6:-Huấn-luyện-mô-hình-như-ở-thử-nghiệm-4-sử-dụng-ảnh-đã-cắt-hết-dòng,-cột-bằng-0-nhưng-sử-dụng-thêm-PolynomialFeatures\" data-toc-modified-id=\"Thử-nghiệm-6:-Huấn-luyện-mô-hình-như-ở-thử-nghiệm-4-sử-dụng-ảnh-đã-cắt-hết-dòng,-cột-bằng-0-nhưng-sử-dụng-thêm-PolynomialFeatures-5.6\"><span class=\"toc-item-num\">5.6&nbsp;&nbsp;</span>Thử nghiệm 6: Huấn luyện mô hình như ở thử nghiệm 4 sử dụng ảnh đã cắt hết dòng, cột bằng 0 nhưng sử dụng thêm PolynomialFeatures</a></span></li><li><span><a href=\"#Thử-nghiệm-7:-Sử-dụng-Data-Augmentation-kết-hợp-thử-nghiệm-6\" data-toc-modified-id=\"Thử-nghiệm-7:-Sử-dụng-Data-Augmentation-kết-hợp-thử-nghiệm-6-5.7\"><span class=\"toc-item-num\">5.7&nbsp;&nbsp;</span>Thử nghiệm 7: Sử dụng Data Augmentation kết hợp thử nghiệm 6</a></span></li></ul></li><li><span><a href=\"#Vẽ-Confusion-Matrix-với-mô-hình-tốt-nhất\" data-toc-modified-id=\"Vẽ-Confusion-Matrix-với-mô-hình-tốt-nhất-6\"><span class=\"toc-item-num\">6&nbsp;&nbsp;</span>Vẽ Confusion Matrix với mô hình tốt nhất</a></span><ul class=\"toc-item\"><li><span><a href=\"#Tập-train\" data-toc-modified-id=\"Tập-train-6.1\"><span class=\"toc-item-num\">6.1&nbsp;&nbsp;</span>Tập train</a></span></li><li><span><a href=\"#Tập-test\" data-toc-modified-id=\"Tập-test-6.2\"><span class=\"toc-item-num\">6.2&nbsp;&nbsp;</span>Tập test</a></span></li></ul></li></ul></div>"
   ]
  },
  {
   "cell_type": "markdown",
   "metadata": {},
   "source": [
    "---"
   ]
  },
  {
   "cell_type": "markdown",
   "metadata": {},
   "source": [
    "# Thông tin nhóm"
   ]
  },
  {
   "cell_type": "markdown",
   "metadata": {},
   "source": [
    "- **Nguyễn Huy Hải – 18120023**\n",
    "- **Phạm Công Minh – 18120058**\n",
    "- **Nguyễn Thanh Tùng – 181201048**\n",
    "- **Nguyễn Thị Hồng Nhung – 18120498**"
   ]
  },
  {
   "cell_type": "markdown",
   "metadata": {},
   "source": [
    "---"
   ]
  },
  {
   "cell_type": "markdown",
   "metadata": {
    "id": "_ooMl-xKENIy"
   },
   "source": [
    "# Import thư viện"
   ]
  },
  {
   "cell_type": "code",
   "execution_count": 1,
   "metadata": {
    "colab": {
     "base_uri": "https://localhost:8080/"
    },
    "id": "S0ZgBZfMCOgX",
    "outputId": "3d695600-32ae-416e-b10f-a5587da06345"
   },
   "outputs": [],
   "source": [
    "import numpy as np\n",
    "import cv2 as cv\n",
    "import matplotlib.pyplot as plt\n",
    "import pandas as pd\n",
    "\n",
    "import time\n",
    "\n",
    "from statsmodels.stats.outliers_influence import variance_inflation_factor\n",
    "from sklearn.datasets import fetch_openml\n",
    "from sklearn.linear_model import LogisticRegression, LogisticRegressionCV\n",
    "from sklearn.model_selection import train_test_split\n",
    "from sklearn.preprocessing import StandardScaler, PolynomialFeatures\n",
    "from sklearn.decomposition import PCA\n",
    "from sklearn.pipeline import Pipeline\n",
    "from sklearn.base import BaseEstimator, TransformerMixin\n",
    "#Create Confusion Matrix\n",
    "from sklearn.metrics import confusion_matrix, ConfusionMatrixDisplay\n",
    "from sklearn.metrics import classification_report\n",
    "import warnings\n",
    "warnings.simplefilter(action='ignore', category=FutureWarning)\n",
    "#Lưu model\n",
    "import pickle"
   ]
  },
  {
   "cell_type": "markdown",
   "metadata": {},
   "source": [
    "---"
   ]
  },
  {
   "cell_type": "markdown",
   "metadata": {
    "id": "Y5rSlntHEQNy"
   },
   "source": [
    "# Tập dữ liệu MNIST"
   ]
  },
  {
   "cell_type": "markdown",
   "metadata": {
    "id": "sgOJbc1J5O9-"
   },
   "source": [
    "## Tải tập dữ liệu"
   ]
  },
  {
   "cell_type": "code",
   "execution_count": 2,
   "metadata": {
    "id": "EruM4yNBCtGa"
   },
   "outputs": [],
   "source": [
    "X, y = fetch_openml('mnist_784', version=1, return_X_y=True, as_frame=False)"
   ]
  },
  {
   "cell_type": "markdown",
   "metadata": {
    "id": "9kS6G-1EEZDy"
   },
   "source": [
    "- Tập X có bao nhiêu dòng cột"
   ]
  },
  {
   "cell_type": "code",
   "execution_count": 3,
   "metadata": {
    "colab": {
     "base_uri": "https://localhost:8080/"
    },
    "id": "BH2tI-HBDd-A",
    "outputId": "1d75a2b3-39f5-4f3a-a2dc-04980fdbb67c"
   },
   "outputs": [
    {
     "data": {
      "text/plain": [
       "(70000, 784)"
      ]
     },
     "execution_count": 3,
     "metadata": {},
     "output_type": "execute_result"
    }
   ],
   "source": [
    "X.shape"
   ]
  },
  {
   "cell_type": "markdown",
   "metadata": {
    "id": "rgYNZnKI5O-A"
   },
   "source": [
    "- Tập y có bao nhiêu dòng"
   ]
  },
  {
   "cell_type": "code",
   "execution_count": 4,
   "metadata": {
    "colab": {
     "base_uri": "https://localhost:8080/"
    },
    "id": "n6C7Y0sGHDeA",
    "outputId": "6ef34446-e83f-431a-b9be-6aab575f2441"
   },
   "outputs": [
    {
     "data": {
      "text/plain": [
       "(70000,)"
      ]
     },
     "execution_count": 4,
     "metadata": {},
     "output_type": "execute_result"
    }
   ],
   "source": [
    "y.shape"
   ]
  },
  {
   "cell_type": "markdown",
   "metadata": {
    "id": "SWI_4PJ-gJb9"
   },
   "source": [
    "## In 25 hình ảnh đầu tiên"
   ]
  },
  {
   "cell_type": "code",
   "execution_count": 5,
   "metadata": {
    "colab": {
     "base_uri": "https://localhost:8080/",
     "height": 590
    },
    "id": "Tu_tG3ZXMJx1",
    "outputId": "09feac1b-f2e0-44c3-a24b-c0181afbf41c",
    "scrolled": false
   },
   "outputs": [
    {
     "data": {
      "image/png": "[encoded data removed]",
      "text/plain": [
       "<Figure size 720x720 with 25 Axes>"
      ]
     },
     "metadata": {
      "needs_background": "light"
     },
     "output_type": "display_data"
    }
   ],
   "source": [
    "fig, ax = plt.subplots(5,5, figsize=(10, 10))\n",
    "for i in range(5):\n",
    "    for j in range(5):\n",
    "        img = X[i*5+j].reshape((28, 28))\n",
    "        fig_img = ax[i,j].imshow(img, cmap='gray')\n",
    "        ax[i,j].set_title(\"Label {}\".format(y[i*5+j]), y=-0.2)\n",
    "        fig_img.axes.get_xaxis().set_visible(False)\n",
    "        fig_img.axes.get_yaxis().set_visible(False)"
   ]
  },
  {
   "cell_type": "markdown",
   "metadata": {},
   "source": [
    "---"
   ]
  },
  {
   "cell_type": "markdown",
   "metadata": {
    "id": "iLGQUZzE5O-B"
   },
   "source": [
    "# Tiền xử lí dữ liệu"
   ]
  },
  {
   "cell_type": "markdown",
   "metadata": {
    "id": "ZFie-9b85O-B"
   },
   "source": [
    "- Tạo tập train và test của mô hình"
   ]
  },
  {
   "cell_type": "markdown",
   "metadata": {
    "id": "k3BVMwMS5O-B"
   },
   "source": [
    "## Biến đổi dữ liệu"
   ]
  },
  {
   "cell_type": "markdown",
   "metadata": {
    "id": "w3HN3Zfa5O-B"
   },
   "source": [
    "`Nhận xét`: Để truyền dữ liệu vào cho mô hình Logistic Regression thì dữ liệu của từng ảnh đầu vào phải là vector một chiều."
   ]
  },
  {
   "cell_type": "markdown",
   "metadata": {
    "id": "XYHd8f8W5O-C"
   },
   "source": [
    "- Kiểm tra tập dữ liệu X"
   ]
  },
  {
   "cell_type": "code",
   "execution_count": 6,
   "metadata": {
    "colab": {
     "base_uri": "https://localhost:8080/"
    },
    "id": "fKtySDO15O-C",
    "outputId": "75de30fb-14fd-475c-f6c9-565e326ef4b6"
   },
   "outputs": [
    {
     "data": {
      "text/plain": [
       "(70000, 784)"
      ]
     },
     "execution_count": 6,
     "metadata": {},
     "output_type": "execute_result"
    }
   ],
   "source": [
    "X.shape"
   ]
  },
  {
   "cell_type": "markdown",
   "metadata": {
    "id": "0dvfBTwk5O-C"
   },
   "source": [
    "Ta thấy dữ liệu của từng ảnh đầu vào đã là vector một chiều nên không cần biến đổi"
   ]
  },
  {
   "cell_type": "markdown",
   "metadata": {
    "id": "KEWPMKLvgDWK"
   },
   "source": [
    "## Xóa những điểm ảnh vô nghĩa"
   ]
  },
  {
   "cell_type": "markdown",
   "metadata": {
    "id": "q9TyVju3X3ef"
   },
   "source": [
    "### Canh giữa ảnh và xóa biên"
   ]
  },
  {
   "cell_type": "markdown",
   "metadata": {
    "id": "yKi976DnYFLq"
   },
   "source": [
    "- Canh giữa ảnh"
   ]
  },
  {
   "cell_type": "code",
   "execution_count": 7,
   "metadata": {
    "id": "YUSJQdueYEly"
   },
   "outputs": [],
   "source": [
    "def get_diff_zero(x):\n",
    "    m = 0\n",
    "    n = 27\n",
    "    while x[m]==0 or x[n] ==0:\n",
    "        if x[m] == 0:\n",
    "            m += 1\n",
    "        if x[n] == 0:\n",
    "            n -= 1\n",
    "    return m,n\n",
    "\n",
    "def find_pos(X):\n",
    "    temp_X = X.reshape((70000,28,28)).copy()\n",
    "    res_1 = np.sum(temp_X, axis=2)\n",
    "    res_2 = np.sum(temp_X, axis=1)\n",
    "    dic = {}\n",
    "    for i in range(70_000):\n",
    "        temp_1 = res_1[i]\n",
    "        x1, x2 = get_diff_zero(temp_1)\n",
    "        temp_2 = res_2[i]\n",
    "        y1, y2 = get_diff_zero(temp_2)\n",
    "        dic[i] = (x1,x2,y1,y2)\n",
    "    return dic\n",
    "\n",
    "def center_image(X):\n",
    "    temp_X = X.reshape((X.shape[0],28,28)).copy()\n",
    "    X_center = []\n",
    "    pos = find_pos(temp_X)\n",
    "    for i in range(70000):\n",
    "        x1,x2,y1,y2 = pos[i]\n",
    "        new_x1 = (28-(x2-x1))//2\n",
    "        new_x2 = new_x1 + (x2-x1)\n",
    "        new_y1 = (28-(y2-y1))//2\n",
    "        new_y2 = new_y1 + (y2-y1)\n",
    "        temp_img = np.zeros(shape = (28,28))\n",
    "        temp_img[new_x1:new_x2+1, new_y1:new_y2+1] = temp_X[i][x1:x2+1,y1:y2+1]\n",
    "        X_center.append(temp_img)\n",
    "    X_center = np.array(X_center)\n",
    "    X_center = X_center.reshape(-1,784)\n",
    "    return X_center"
   ]
  },
  {
   "cell_type": "markdown",
   "metadata": {},
   "source": [
    "- Canh giữa tập X"
   ]
  },
  {
   "cell_type": "code",
   "execution_count": 8,
   "metadata": {},
   "outputs": [],
   "source": [
    "X_center = center_image(X)"
   ]
  },
  {
   "cell_type": "markdown",
   "metadata": {
    "id": "gbWsoF8NZrbA"
   },
   "source": [
    "- Tìm kích thước khung ảnh sau khi cắt biên"
   ]
  },
  {
   "cell_type": "code",
   "execution_count": 9,
   "metadata": {
    "id": "zBLchx0oY2Va"
   },
   "outputs": [],
   "source": [
    "temp_X = X_center.reshape(70000,28,28)"
   ]
  },
  {
   "cell_type": "code",
   "execution_count": 10,
   "metadata": {
    "colab": {
     "base_uri": "https://localhost:8080/"
    },
    "id": "Wltt_BqUYBQf",
    "outputId": "c49bd9b2-1bee-4c06-96e7-42c5edc876ed"
   },
   "outputs": [
    {
     "data": {
      "text/plain": [
       "(4, 23)"
      ]
     },
     "execution_count": 10,
     "metadata": {},
     "output_type": "execute_result"
    }
   ],
   "source": [
    "x1,x2 = get_diff_zero(np.sum(np.sum(temp_X, axis = 1),axis=0))\n",
    "x1,x2"
   ]
  },
  {
   "cell_type": "code",
   "execution_count": 11,
   "metadata": {
    "colab": {
     "base_uri": "https://localhost:8080/"
    },
    "id": "jTPhc_LRYYX5",
    "outputId": "bdc4895b-1be3-4f64-edf6-a708b16d03db"
   },
   "outputs": [
    {
     "data": {
      "text/plain": [
       "(4, 23)"
      ]
     },
     "execution_count": 11,
     "metadata": {},
     "output_type": "execute_result"
    }
   ],
   "source": [
    "y1,y2 = get_diff_zero(np.sum(np.sum(temp_X, axis = 2),axis=0))\n",
    "y1,y2"
   ]
  },
  {
   "cell_type": "markdown",
   "metadata": {
    "id": "soe3uALlY9OP"
   },
   "source": [
    "`Nhận xét`: \n",
    "\n",
    "- Khung hình mới sẽ từ (28, 28) thành (20, 20).\n",
    "- Đã xóa 26_880_000 điểm ảnh"
   ]
  },
  {
   "cell_type": "markdown",
   "metadata": {
    "id": "MVSiLs2LZuor"
   },
   "source": [
    "- Cắt biên ảnh"
   ]
  },
  {
   "cell_type": "code",
   "execution_count": 12,
   "metadata": {
    "id": "t-RCtCTdYvTN"
   },
   "outputs": [
    {
     "data": {
      "text/plain": [
       "(70000, 400)"
      ]
     },
     "execution_count": 12,
     "metadata": {},
     "output_type": "execute_result"
    }
   ],
   "source": [
    "X_center = temp_X[:,4:24,4:24].reshape(-1,400)\n",
    "X_center.shape"
   ]
  },
  {
   "cell_type": "markdown",
   "metadata": {
    "id": "G31eoQ7ZZIWb"
   },
   "source": [
    "- In 25 tấm ảnh đầu tiên sau khi canh giữa và cắt biên"
   ]
  },
  {
   "cell_type": "code",
   "execution_count": 13,
   "metadata": {
    "colab": {
     "base_uri": "https://localhost:8080/",
     "height": 590
    },
    "id": "-NkTE_7xZG4A",
    "outputId": "c93507c5-0153-479c-e8b7-471f671f2368"
   },
   "outputs": [
    {
     "data": {
      "image/png": "[encoded data removed]",
      "text/plain": [
       "<Figure size 720x720 with 25 Axes>"
      ]
     },
     "metadata": {
      "needs_background": "light"
     },
     "output_type": "display_data"
    }
   ],
   "source": [
    "fig, ax = plt.subplots(5,5, figsize=(10, 10))\n",
    "for i in range(5):\n",
    "    for j in range(5):\n",
    "        img = X_center[i*5+j].reshape((20, 20)).astype('float32')\n",
    "        fig_img = ax[i,j].imshow(img, cmap='gray')\n",
    "        ax[i,j].set_title(\"Label {}\".format(y[i*5+j]), y=-0.2)\n",
    "        fig_img.axes.get_xaxis().set_visible(False)\n",
    "        fig_img.axes.get_yaxis().set_visible(False)"
   ]
  },
  {
   "cell_type": "markdown",
   "metadata": {},
   "source": [
    "`Nhận xét`: Sau khi canh giữa và xóa biên thì kích thước của ảnh còn 20x20"
   ]
  },
  {
   "cell_type": "markdown",
   "metadata": {
    "id": "T3sL7d6gXYUU"
   },
   "source": [
    "### Xóa bỏ tất cả các cột, dòng bằng 0 và chỉnh kích thước thành 28x28"
   ]
  },
  {
   "cell_type": "code",
   "execution_count": 14,
   "metadata": {
    "id": "4UIL2fQseviF"
   },
   "outputs": [],
   "source": [
    "class Image_Filter(BaseEstimator, TransformerMixin):\n",
    "    def __init__(self):\n",
    "        self.sum_delete_pixel = 0\n",
    "    def fit(self, X, y=None):\n",
    "        return self\n",
    "    def transform(self, X, y=None):\n",
    "        X_adj = []\n",
    "        delete_pixel = np.zeros((X.shape[0],1), dtype = int)\n",
    "        for i in range(len(X)):\n",
    "            img = X[i].reshape((28, 28))\n",
    "            # Xoa dong, cot trong\n",
    "            index_col = np.any(img != 0, axis=0)\n",
    "            img = img[:, index_col]\n",
    "            index_row = np.any(img != 0, axis=1)\n",
    "            img = img[index_row]\n",
    "            data = cv.resize(img, dsize=(28, 28), interpolation=cv.INTER_CUBIC)\n",
    "            data = data.reshape(X.shape[1])\n",
    "            X_adj.append(data)\n",
    "            delete_pixel[i] = 784 - img.shape[0]*img.shape[1]\n",
    "        X_adj=np.array(X_adj)\n",
    "        X_adj = X_adj.reshape(X_adj.shape[0],-1)\n",
    "        self.sum_delete_pixel = np.sum(delete_pixel)\n",
    "        return X_adj"
   ]
  },
  {
   "cell_type": "code",
   "execution_count": 15,
   "metadata": {
    "id": "KVme1b_MKyQ9"
   },
   "outputs": [
    {
     "data": {
      "text/plain": [
       "(70000, 784)"
      ]
     },
     "execution_count": 15,
     "metadata": {},
     "output_type": "execute_result"
    }
   ],
   "source": [
    "image_filter = Image_Filter()\n",
    "X_adj = image_filter.transform(X)\n",
    "X_adj.shape"
   ]
  },
  {
   "cell_type": "markdown",
   "metadata": {
    "id": "XXnbc3RiKlsx"
   },
   "source": [
    "- Số điểm ảnh đã xóa"
   ]
  },
  {
   "cell_type": "code",
   "execution_count": 16,
   "metadata": {
    "colab": {
     "base_uri": "https://localhost:8080/"
    },
    "id": "W6XsP59NMnfE",
    "outputId": "553bf200-1e8d-424b-87ae-248e892127e6"
   },
   "outputs": [
    {
     "data": {
      "text/plain": [
       "33346053"
      ]
     },
     "execution_count": 16,
     "metadata": {},
     "output_type": "execute_result"
    }
   ],
   "source": [
    "image_filter.sum_delete_pixel"
   ]
  },
  {
   "cell_type": "markdown",
   "metadata": {
    "id": "AHScJ_QNXxMb"
   },
   "source": [
    "- In 25 tấm ảnh đầu tiên sau khi xử lí."
   ]
  },
  {
   "cell_type": "code",
   "execution_count": 17,
   "metadata": {
    "colab": {
     "base_uri": "https://localhost:8080/",
     "height": 590
    },
    "id": "h5e-YDtvp0GZ",
    "outputId": "a6842fb3-71d9-4fb0-a689-49ca62fa3bfc"
   },
   "outputs": [
    {
     "data": {
      "image/png": "[encoded data removed]",
      "text/plain": [
       "<Figure size 720x720 with 25 Axes>"
      ]
     },
     "metadata": {
      "needs_background": "light"
     },
     "output_type": "display_data"
    }
   ],
   "source": [
    "fig, ax = plt.subplots(5,5, figsize=(10, 10))\n",
    "for i in range(5):\n",
    "    for j in range(5):\n",
    "        img = X_adj[i*5+j].reshape((28, 28))\n",
    "        fig_img = ax[i,j].imshow(img, cmap='gray')\n",
    "        ax[i,j].set_title(\"Label {}\".format(y[i*5+j]), y=-0.2)\n",
    "        fig_img.axes.get_xaxis().set_visible(False)\n",
    "        fig_img.axes.get_yaxis().set_visible(False)"
   ]
  },
  {
   "cell_type": "markdown",
   "metadata": {
    "id": "g3tRySSu5O-D"
   },
   "source": [
    "## Khắc phục hiện tượng đa cộng tuyến"
   ]
  },
  {
   "cell_type": "markdown",
   "metadata": {
    "id": "ZA5LIttx5iyr"
   },
   "source": [
    "- Tạo tập train để xác định hiện tượng đa cộng tuyến"
   ]
  },
  {
   "cell_type": "code",
   "execution_count": 18,
   "metadata": {
    "id": "ZPAFmI8p5hGi"
   },
   "outputs": [],
   "source": [
    "X_train, X_test, y_train, y_test = train_test_split(X_adj, y, test_size=1/7, random_state=0, stratify=y)"
   ]
  },
  {
   "cell_type": "markdown",
   "metadata": {
    "id": "Xt_vAh-f5O-D"
   },
   "source": [
    "- Tính correlation"
   ]
  },
  {
   "cell_type": "code",
   "execution_count": 19,
   "metadata": {
    "colab": {
     "base_uri": "https://localhost:8080/",
     "height": 439
    },
    "id": "dRREZp3g5O-D",
    "outputId": "3c6b3d4c-d4d7-46ff-b57a-63c56443609b"
   },
   "outputs": [
    {
     "data": {
      "text/html": [
       "<div>\n",
       "<style scoped>\n",
       "    .dataframe tbody tr th:only-of-type {\n",
       "        vertical-align: middle;\n",
       "    }\n",
       "\n",
       "    .dataframe tbody tr th {\n",
       "        vertical-align: top;\n",
       "    }\n",
       "\n",
       "    .dataframe thead th {\n",
       "        text-align: right;\n",
       "    }\n",
       "</style>\n",
       "<table border=\"1\" class=\"dataframe\">\n",
       "  <thead>\n",
       "    <tr style=\"text-align: right;\">\n",
       "      <th></th>\n",
       "      <th>0</th>\n",
       "      <th>1</th>\n",
       "      <th>2</th>\n",
       "      <th>3</th>\n",
       "      <th>4</th>\n",
       "      <th>5</th>\n",
       "      <th>6</th>\n",
       "      <th>7</th>\n",
       "      <th>8</th>\n",
       "      <th>9</th>\n",
       "      <th>...</th>\n",
       "      <th>774</th>\n",
       "      <th>775</th>\n",
       "      <th>776</th>\n",
       "      <th>777</th>\n",
       "      <th>778</th>\n",
       "      <th>779</th>\n",
       "      <th>780</th>\n",
       "      <th>781</th>\n",
       "      <th>782</th>\n",
       "      <th>783</th>\n",
       "    </tr>\n",
       "  </thead>\n",
       "  <tbody>\n",
       "    <tr>\n",
       "      <th>0</th>\n",
       "      <td>1.000000</td>\n",
       "      <td>0.870696</td>\n",
       "      <td>NaN</td>\n",
       "      <td>NaN</td>\n",
       "      <td>NaN</td>\n",
       "      <td>NaN</td>\n",
       "      <td>NaN</td>\n",
       "      <td>NaN</td>\n",
       "      <td>NaN</td>\n",
       "      <td>NaN</td>\n",
       "      <td>...</td>\n",
       "      <td>NaN</td>\n",
       "      <td>NaN</td>\n",
       "      <td>NaN</td>\n",
       "      <td>NaN</td>\n",
       "      <td>NaN</td>\n",
       "      <td>NaN</td>\n",
       "      <td>NaN</td>\n",
       "      <td>NaN</td>\n",
       "      <td>NaN</td>\n",
       "      <td>NaN</td>\n",
       "    </tr>\n",
       "    <tr>\n",
       "      <th>1</th>\n",
       "      <td>0.870696</td>\n",
       "      <td>1.000000</td>\n",
       "      <td>0.921925</td>\n",
       "      <td>NaN</td>\n",
       "      <td>NaN</td>\n",
       "      <td>NaN</td>\n",
       "      <td>NaN</td>\n",
       "      <td>NaN</td>\n",
       "      <td>NaN</td>\n",
       "      <td>NaN</td>\n",
       "      <td>...</td>\n",
       "      <td>NaN</td>\n",
       "      <td>NaN</td>\n",
       "      <td>NaN</td>\n",
       "      <td>NaN</td>\n",
       "      <td>NaN</td>\n",
       "      <td>NaN</td>\n",
       "      <td>NaN</td>\n",
       "      <td>NaN</td>\n",
       "      <td>NaN</td>\n",
       "      <td>NaN</td>\n",
       "    </tr>\n",
       "    <tr>\n",
       "      <th>2</th>\n",
       "      <td>NaN</td>\n",
       "      <td>0.921925</td>\n",
       "      <td>1.000000</td>\n",
       "      <td>0.925540</td>\n",
       "      <td>NaN</td>\n",
       "      <td>NaN</td>\n",
       "      <td>NaN</td>\n",
       "      <td>NaN</td>\n",
       "      <td>NaN</td>\n",
       "      <td>NaN</td>\n",
       "      <td>...</td>\n",
       "      <td>NaN</td>\n",
       "      <td>NaN</td>\n",
       "      <td>NaN</td>\n",
       "      <td>NaN</td>\n",
       "      <td>NaN</td>\n",
       "      <td>NaN</td>\n",
       "      <td>NaN</td>\n",
       "      <td>NaN</td>\n",
       "      <td>NaN</td>\n",
       "      <td>NaN</td>\n",
       "    </tr>\n",
       "    <tr>\n",
       "      <th>3</th>\n",
       "      <td>NaN</td>\n",
       "      <td>NaN</td>\n",
       "      <td>0.925540</td>\n",
       "      <td>1.000000</td>\n",
       "      <td>0.924331</td>\n",
       "      <td>NaN</td>\n",
       "      <td>NaN</td>\n",
       "      <td>NaN</td>\n",
       "      <td>NaN</td>\n",
       "      <td>NaN</td>\n",
       "      <td>...</td>\n",
       "      <td>NaN</td>\n",
       "      <td>NaN</td>\n",
       "      <td>NaN</td>\n",
       "      <td>NaN</td>\n",
       "      <td>NaN</td>\n",
       "      <td>NaN</td>\n",
       "      <td>NaN</td>\n",
       "      <td>NaN</td>\n",
       "      <td>NaN</td>\n",
       "      <td>NaN</td>\n",
       "    </tr>\n",
       "    <tr>\n",
       "      <th>4</th>\n",
       "      <td>NaN</td>\n",
       "      <td>NaN</td>\n",
       "      <td>NaN</td>\n",
       "      <td>0.924331</td>\n",
       "      <td>1.000000</td>\n",
       "      <td>0.927491</td>\n",
       "      <td>NaN</td>\n",
       "      <td>NaN</td>\n",
       "      <td>NaN</td>\n",
       "      <td>NaN</td>\n",
       "      <td>...</td>\n",
       "      <td>NaN</td>\n",
       "      <td>NaN</td>\n",
       "      <td>NaN</td>\n",
       "      <td>NaN</td>\n",
       "      <td>NaN</td>\n",
       "      <td>NaN</td>\n",
       "      <td>NaN</td>\n",
       "      <td>NaN</td>\n",
       "      <td>NaN</td>\n",
       "      <td>NaN</td>\n",
       "    </tr>\n",
       "    <tr>\n",
       "      <th>...</th>\n",
       "      <td>...</td>\n",
       "      <td>...</td>\n",
       "      <td>...</td>\n",
       "      <td>...</td>\n",
       "      <td>...</td>\n",
       "      <td>...</td>\n",
       "      <td>...</td>\n",
       "      <td>...</td>\n",
       "      <td>...</td>\n",
       "      <td>...</td>\n",
       "      <td>...</td>\n",
       "      <td>...</td>\n",
       "      <td>...</td>\n",
       "      <td>...</td>\n",
       "      <td>...</td>\n",
       "      <td>...</td>\n",
       "      <td>...</td>\n",
       "      <td>...</td>\n",
       "      <td>...</td>\n",
       "      <td>...</td>\n",
       "      <td>...</td>\n",
       "    </tr>\n",
       "    <tr>\n",
       "      <th>779</th>\n",
       "      <td>NaN</td>\n",
       "      <td>NaN</td>\n",
       "      <td>NaN</td>\n",
       "      <td>NaN</td>\n",
       "      <td>NaN</td>\n",
       "      <td>NaN</td>\n",
       "      <td>NaN</td>\n",
       "      <td>NaN</td>\n",
       "      <td>NaN</td>\n",
       "      <td>NaN</td>\n",
       "      <td>...</td>\n",
       "      <td>NaN</td>\n",
       "      <td>NaN</td>\n",
       "      <td>NaN</td>\n",
       "      <td>NaN</td>\n",
       "      <td>0.902938</td>\n",
       "      <td>1.00000</td>\n",
       "      <td>0.907250</td>\n",
       "      <td>NaN</td>\n",
       "      <td>NaN</td>\n",
       "      <td>NaN</td>\n",
       "    </tr>\n",
       "    <tr>\n",
       "      <th>780</th>\n",
       "      <td>NaN</td>\n",
       "      <td>NaN</td>\n",
       "      <td>NaN</td>\n",
       "      <td>NaN</td>\n",
       "      <td>NaN</td>\n",
       "      <td>NaN</td>\n",
       "      <td>NaN</td>\n",
       "      <td>NaN</td>\n",
       "      <td>NaN</td>\n",
       "      <td>NaN</td>\n",
       "      <td>...</td>\n",
       "      <td>NaN</td>\n",
       "      <td>NaN</td>\n",
       "      <td>NaN</td>\n",
       "      <td>NaN</td>\n",
       "      <td>NaN</td>\n",
       "      <td>0.90725</td>\n",
       "      <td>1.000000</td>\n",
       "      <td>0.916077</td>\n",
       "      <td>NaN</td>\n",
       "      <td>NaN</td>\n",
       "    </tr>\n",
       "    <tr>\n",
       "      <th>781</th>\n",
       "      <td>NaN</td>\n",
       "      <td>NaN</td>\n",
       "      <td>NaN</td>\n",
       "      <td>NaN</td>\n",
       "      <td>NaN</td>\n",
       "      <td>NaN</td>\n",
       "      <td>NaN</td>\n",
       "      <td>NaN</td>\n",
       "      <td>NaN</td>\n",
       "      <td>NaN</td>\n",
       "      <td>...</td>\n",
       "      <td>NaN</td>\n",
       "      <td>NaN</td>\n",
       "      <td>NaN</td>\n",
       "      <td>NaN</td>\n",
       "      <td>NaN</td>\n",
       "      <td>NaN</td>\n",
       "      <td>0.916077</td>\n",
       "      <td>1.000000</td>\n",
       "      <td>0.919030</td>\n",
       "      <td>NaN</td>\n",
       "    </tr>\n",
       "    <tr>\n",
       "      <th>782</th>\n",
       "      <td>NaN</td>\n",
       "      <td>NaN</td>\n",
       "      <td>NaN</td>\n",
       "      <td>NaN</td>\n",
       "      <td>NaN</td>\n",
       "      <td>NaN</td>\n",
       "      <td>NaN</td>\n",
       "      <td>NaN</td>\n",
       "      <td>NaN</td>\n",
       "      <td>NaN</td>\n",
       "      <td>...</td>\n",
       "      <td>NaN</td>\n",
       "      <td>NaN</td>\n",
       "      <td>NaN</td>\n",
       "      <td>NaN</td>\n",
       "      <td>NaN</td>\n",
       "      <td>NaN</td>\n",
       "      <td>NaN</td>\n",
       "      <td>0.919030</td>\n",
       "      <td>1.000000</td>\n",
       "      <td>0.864017</td>\n",
       "    </tr>\n",
       "    <tr>\n",
       "      <th>783</th>\n",
       "      <td>NaN</td>\n",
       "      <td>NaN</td>\n",
       "      <td>NaN</td>\n",
       "      <td>NaN</td>\n",
       "      <td>NaN</td>\n",
       "      <td>NaN</td>\n",
       "      <td>NaN</td>\n",
       "      <td>NaN</td>\n",
       "      <td>NaN</td>\n",
       "      <td>NaN</td>\n",
       "      <td>...</td>\n",
       "      <td>NaN</td>\n",
       "      <td>NaN</td>\n",
       "      <td>NaN</td>\n",
       "      <td>NaN</td>\n",
       "      <td>NaN</td>\n",
       "      <td>NaN</td>\n",
       "      <td>NaN</td>\n",
       "      <td>NaN</td>\n",
       "      <td>0.864017</td>\n",
       "      <td>1.000000</td>\n",
       "    </tr>\n",
       "  </tbody>\n",
       "</table>\n",
       "<p>784 rows × 784 columns</p>\n",
       "</div>"
      ],
      "text/plain": [
       "          0         1         2         3         4         5    6    7    \\\n",
       "0    1.000000  0.870696       NaN       NaN       NaN       NaN  NaN  NaN   \n",
       "1    0.870696  1.000000  0.921925       NaN       NaN       NaN  NaN  NaN   \n",
       "2         NaN  0.921925  1.000000  0.925540       NaN       NaN  NaN  NaN   \n",
       "3         NaN       NaN  0.925540  1.000000  0.924331       NaN  NaN  NaN   \n",
       "4         NaN       NaN       NaN  0.924331  1.000000  0.927491  NaN  NaN   \n",
       "..        ...       ...       ...       ...       ...       ...  ...  ...   \n",
       "779       NaN       NaN       NaN       NaN       NaN       NaN  NaN  NaN   \n",
       "780       NaN       NaN       NaN       NaN       NaN       NaN  NaN  NaN   \n",
       "781       NaN       NaN       NaN       NaN       NaN       NaN  NaN  NaN   \n",
       "782       NaN       NaN       NaN       NaN       NaN       NaN  NaN  NaN   \n",
       "783       NaN       NaN       NaN       NaN       NaN       NaN  NaN  NaN   \n",
       "\n",
       "     8    9    ...  774  775  776  777       778      779       780       781  \\\n",
       "0    NaN  NaN  ...  NaN  NaN  NaN  NaN       NaN      NaN       NaN       NaN   \n",
       "1    NaN  NaN  ...  NaN  NaN  NaN  NaN       NaN      NaN       NaN       NaN   \n",
       "2    NaN  NaN  ...  NaN  NaN  NaN  NaN       NaN      NaN       NaN       NaN   \n",
       "3    NaN  NaN  ...  NaN  NaN  NaN  NaN       NaN      NaN       NaN       NaN   \n",
       "4    NaN  NaN  ...  NaN  NaN  NaN  NaN       NaN      NaN       NaN       NaN   \n",
       "..   ...  ...  ...  ...  ...  ...  ...       ...      ...       ...       ...   \n",
       "779  NaN  NaN  ...  NaN  NaN  NaN  NaN  0.902938  1.00000  0.907250       NaN   \n",
       "780  NaN  NaN  ...  NaN  NaN  NaN  NaN       NaN  0.90725  1.000000  0.916077   \n",
       "781  NaN  NaN  ...  NaN  NaN  NaN  NaN       NaN      NaN  0.916077  1.000000   \n",
       "782  NaN  NaN  ...  NaN  NaN  NaN  NaN       NaN      NaN       NaN  0.919030   \n",
       "783  NaN  NaN  ...  NaN  NaN  NaN  NaN       NaN      NaN       NaN       NaN   \n",
       "\n",
       "          782       783  \n",
       "0         NaN       NaN  \n",
       "1         NaN       NaN  \n",
       "2         NaN       NaN  \n",
       "3         NaN       NaN  \n",
       "4         NaN       NaN  \n",
       "..        ...       ...  \n",
       "779       NaN       NaN  \n",
       "780       NaN       NaN  \n",
       "781  0.919030       NaN  \n",
       "782  1.000000  0.864017  \n",
       "783  0.864017  1.000000  \n",
       "\n",
       "[784 rows x 784 columns]"
      ]
     },
     "execution_count": 19,
     "metadata": {},
     "output_type": "execute_result"
    }
   ],
   "source": [
    "corr_X =pd.DataFrame(X_train) .corr()\n",
    "corr_X[corr_X>0.8]"
   ]
  },
  {
   "cell_type": "markdown",
   "metadata": {
    "id": "GwlHHrDtVfIu"
   },
   "source": [
    "- Tính VIF của 1000 dòng"
   ]
  },
  {
   "cell_type": "code",
   "execution_count": 20,
   "metadata": {
    "id": "fUmEZoSyVg9l"
   },
   "outputs": [],
   "source": [
    "def calc_vif(X):\n",
    "    # Calculating VIF\n",
    "    vif = pd.DataFrame()\n",
    "    vif[\"variables\"] = X.columns\n",
    "    vif[\"VIF\"] = [variance_inflation_factor(X.values, i) for i in range(X.shape[1])]\n",
    "    return (vif)"
   ]
  },
  {
   "cell_type": "code",
   "execution_count": 21,
   "metadata": {
    "id": "B0v--CjMVl9A"
   },
   "outputs": [
    {
     "name": "stderr",
     "output_type": "stream",
     "text": [
      "C:\\Users\\Admin\\anaconda3\\lib\\site-packages\\statsmodels\\stats\\outliers_influence.py:193: RuntimeWarning: divide by zero encountered in double_scalars\n",
      "  vif = 1. / (1. - r_squared_i)\n"
     ]
    },
    {
     "data": {
      "text/html": [
       "<div>\n",
       "<style scoped>\n",
       "    .dataframe tbody tr th:only-of-type {\n",
       "        vertical-align: middle;\n",
       "    }\n",
       "\n",
       "    .dataframe tbody tr th {\n",
       "        vertical-align: top;\n",
       "    }\n",
       "\n",
       "    .dataframe thead th {\n",
       "        text-align: right;\n",
       "    }\n",
       "</style>\n",
       "<table border=\"1\" class=\"dataframe\">\n",
       "  <thead>\n",
       "    <tr style=\"text-align: right;\">\n",
       "      <th></th>\n",
       "      <th>variables</th>\n",
       "      <th>VIF</th>\n",
       "    </tr>\n",
       "  </thead>\n",
       "  <tbody>\n",
       "    <tr>\n",
       "      <th>0</th>\n",
       "      <td>0</td>\n",
       "      <td>inf</td>\n",
       "    </tr>\n",
       "    <tr>\n",
       "      <th>1</th>\n",
       "      <td>1</td>\n",
       "      <td>inf</td>\n",
       "    </tr>\n",
       "    <tr>\n",
       "      <th>2</th>\n",
       "      <td>2</td>\n",
       "      <td>inf</td>\n",
       "    </tr>\n",
       "    <tr>\n",
       "      <th>3</th>\n",
       "      <td>3</td>\n",
       "      <td>inf</td>\n",
       "    </tr>\n",
       "    <tr>\n",
       "      <th>4</th>\n",
       "      <td>4</td>\n",
       "      <td>inf</td>\n",
       "    </tr>\n",
       "    <tr>\n",
       "      <th>...</th>\n",
       "      <td>...</td>\n",
       "      <td>...</td>\n",
       "    </tr>\n",
       "    <tr>\n",
       "      <th>779</th>\n",
       "      <td>779</td>\n",
       "      <td>inf</td>\n",
       "    </tr>\n",
       "    <tr>\n",
       "      <th>780</th>\n",
       "      <td>780</td>\n",
       "      <td>inf</td>\n",
       "    </tr>\n",
       "    <tr>\n",
       "      <th>781</th>\n",
       "      <td>781</td>\n",
       "      <td>inf</td>\n",
       "    </tr>\n",
       "    <tr>\n",
       "      <th>782</th>\n",
       "      <td>782</td>\n",
       "      <td>inf</td>\n",
       "    </tr>\n",
       "    <tr>\n",
       "      <th>783</th>\n",
       "      <td>783</td>\n",
       "      <td>inf</td>\n",
       "    </tr>\n",
       "  </tbody>\n",
       "</table>\n",
       "<p>784 rows × 2 columns</p>\n",
       "</div>"
      ],
      "text/plain": [
       "     variables  VIF\n",
       "0            0  inf\n",
       "1            1  inf\n",
       "2            2  inf\n",
       "3            3  inf\n",
       "4            4  inf\n",
       "..         ...  ...\n",
       "779        779  inf\n",
       "780        780  inf\n",
       "781        781  inf\n",
       "782        782  inf\n",
       "783        783  inf\n",
       "\n",
       "[784 rows x 2 columns]"
      ]
     },
     "execution_count": 21,
     "metadata": {},
     "output_type": "execute_result"
    }
   ],
   "source": [
    "vif_X_1000 = calc_vif(pd.DataFrame(X_adj[:1000]))\n",
    "vif_X_1000"
   ]
  },
  {
   "cell_type": "markdown",
   "metadata": {
    "id": "xKi8IfmGWOMr"
   },
   "source": [
    "- Tính VIF của 1000 dòng sau khi PCA"
   ]
  },
  {
   "cell_type": "code",
   "execution_count": 22,
   "metadata": {
    "id": "dZyNd6m0WNzD"
   },
   "outputs": [
    {
     "data": {
      "text/html": [
       "<div>\n",
       "<style scoped>\n",
       "    .dataframe tbody tr th:only-of-type {\n",
       "        vertical-align: middle;\n",
       "    }\n",
       "\n",
       "    .dataframe tbody tr th {\n",
       "        vertical-align: top;\n",
       "    }\n",
       "\n",
       "    .dataframe thead th {\n",
       "        text-align: right;\n",
       "    }\n",
       "</style>\n",
       "<table border=\"1\" class=\"dataframe\">\n",
       "  <thead>\n",
       "    <tr style=\"text-align: right;\">\n",
       "      <th></th>\n",
       "      <th>variables</th>\n",
       "      <th>VIF</th>\n",
       "    </tr>\n",
       "  </thead>\n",
       "  <tbody>\n",
       "    <tr>\n",
       "      <th>0</th>\n",
       "      <td>0</td>\n",
       "      <td>1.058222</td>\n",
       "    </tr>\n",
       "    <tr>\n",
       "      <th>1</th>\n",
       "      <td>1</td>\n",
       "      <td>1.077464</td>\n",
       "    </tr>\n",
       "    <tr>\n",
       "      <th>2</th>\n",
       "      <td>2</td>\n",
       "      <td>1.068504</td>\n",
       "    </tr>\n",
       "    <tr>\n",
       "      <th>3</th>\n",
       "      <td>3</td>\n",
       "      <td>1.073108</td>\n",
       "    </tr>\n",
       "    <tr>\n",
       "      <th>4</th>\n",
       "      <td>4</td>\n",
       "      <td>1.052478</td>\n",
       "    </tr>\n",
       "    <tr>\n",
       "      <th>...</th>\n",
       "      <td>...</td>\n",
       "      <td>...</td>\n",
       "    </tr>\n",
       "    <tr>\n",
       "      <th>65</th>\n",
       "      <td>65</td>\n",
       "      <td>1.086399</td>\n",
       "    </tr>\n",
       "    <tr>\n",
       "      <th>66</th>\n",
       "      <td>66</td>\n",
       "      <td>1.072343</td>\n",
       "    </tr>\n",
       "    <tr>\n",
       "      <th>67</th>\n",
       "      <td>67</td>\n",
       "      <td>1.061661</td>\n",
       "    </tr>\n",
       "    <tr>\n",
       "      <th>68</th>\n",
       "      <td>68</td>\n",
       "      <td>1.074193</td>\n",
       "    </tr>\n",
       "    <tr>\n",
       "      <th>69</th>\n",
       "      <td>69</td>\n",
       "      <td>1.111143</td>\n",
       "    </tr>\n",
       "  </tbody>\n",
       "</table>\n",
       "<p>70 rows × 2 columns</p>\n",
       "</div>"
      ],
      "text/plain": [
       "    variables       VIF\n",
       "0           0  1.058222\n",
       "1           1  1.077464\n",
       "2           2  1.068504\n",
       "3           3  1.073108\n",
       "4           4  1.052478\n",
       "..        ...       ...\n",
       "65         65  1.086399\n",
       "66         66  1.072343\n",
       "67         67  1.061661\n",
       "68         68  1.074193\n",
       "69         69  1.111143\n",
       "\n",
       "[70 rows x 2 columns]"
      ]
     },
     "execution_count": 22,
     "metadata": {},
     "output_type": "execute_result"
    }
   ],
   "source": [
    "pca = PCA(n_components= 70, random_state=0)\n",
    "temp_X = pca.fit_transform(X_train)\n",
    "vif_X_pca = calc_vif(pd.DataFrame(temp_X[:1000]))\n",
    "vif_X_pca"
   ]
  },
  {
   "cell_type": "markdown",
   "metadata": {
    "id": "jfHqGreeBxL7"
   },
   "source": [
    "`Nhận xét`: PCA có thể khắc phục hiện tượng đa cộng tuyến"
   ]
  },
  {
   "cell_type": "markdown",
   "metadata": {},
   "source": [
    "---"
   ]
  },
  {
   "cell_type": "markdown",
   "metadata": {
    "id": "IAW9dRiMEbqZ"
   },
   "source": [
    "# Huấn luyện mô hình Logistic"
   ]
  },
  {
   "cell_type": "markdown",
   "metadata": {
    "id": "OAc1ITKkfYAu"
   },
   "source": [
    "## Thử nghiệm 1: Huấn luyện mô hình không xử lí dữ liệu"
   ]
  },
  {
   "cell_type": "markdown",
   "metadata": {
    "id": "c3UT7_4C5O-F"
   },
   "source": [
    "- Chia tập train và tập test"
   ]
  },
  {
   "cell_type": "code",
   "execution_count": 23,
   "metadata": {
    "id": "aWRLM-d-5O-F"
   },
   "outputs": [],
   "source": [
    "X_train, X_test, y_train, y_test = train_test_split(X, y, test_size=1/7, random_state=0, stratify=y)"
   ]
  },
  {
   "cell_type": "markdown",
   "metadata": {
    "id": "KhjVe2gA5O-F"
   },
   "source": [
    "- Chuẩn hóa dữ liệu về 0-1 với dữ liệu gốc"
   ]
  },
  {
   "cell_type": "code",
   "execution_count": 24,
   "metadata": {
    "id": "pzn7a9Qr5O-F"
   },
   "outputs": [],
   "source": [
    "scaler = StandardScaler()\n",
    "X_train = scaler.fit_transform(X_train)\n",
    "X_test = scaler.transform(X_test)"
   ]
  },
  {
   "cell_type": "markdown",
   "metadata": {
    "id": "fm8LlkpA5O-G"
   },
   "source": [
    "- Huấn luyện mô hình với penalty = l1"
   ]
  },
  {
   "cell_type": "code",
   "execution_count": 25,
   "metadata": {
    "colab": {
     "base_uri": "https://localhost:8080/"
    },
    "id": "v2Z4ZETR5O-G",
    "outputId": "10b7689c-7f2a-402b-acf7-f00c2ebde4e8"
   },
   "outputs": [
    {
     "name": "stdout",
     "output_type": "stream",
     "text": [
      "Example run in 176.259 s\n",
      "Train score with L1 penalty: 0.9183\n",
      "Test score with L1 penalty: 0.9143\n"
     ]
    }
   ],
   "source": [
    "#Thử nghiệm với penalty l1\n",
    "classifier = LogisticRegression(penalty='l1', solver='saga', tol=0.01, random_state=0)\n",
    "\n",
    "#Đo thời gian thực hiện\n",
    "t0 = time.time()\n",
    "\n",
    "classifier.fit(X_train, y_train)\n",
    "\n",
    "run_time = time.time() - t0\n",
    "print('Example run in %.3f s' % run_time)\n",
    "\n",
    "score = classifier.score(X_train, y_train)\n",
    "print(\"Train score with L1 penalty: %.4f\" % score)\n",
    "\n",
    "score = classifier.score(X_test, y_test)\n",
    "print(\"Test score with L1 penalty: %.4f\" % score)"
   ]
  },
  {
   "cell_type": "markdown",
   "metadata": {
    "id": "KzMgF_Nia1E_"
   },
   "source": [
    "- Huấn luyện mô hình với penalty = l2"
   ]
  },
  {
   "cell_type": "code",
   "execution_count": 26,
   "metadata": {
    "colab": {
     "base_uri": "https://localhost:8080/"
    },
    "id": "oAe2q51btRVM",
    "outputId": "2a9f16df-df98-48ee-f5b0-8dfcd81cc242"
   },
   "outputs": [
    {
     "name": "stdout",
     "output_type": "stream",
     "text": [
      "Train score with L2 penalty: 0.9183\n",
      "Test score with L2 penalty: 0.9148\n"
     ]
    }
   ],
   "source": [
    "#Thử nghiệm với penalty l2\n",
    "classifier = LogisticRegression(penalty='l2', solver='saga', tol = 0.01, random_state=0)\n",
    "\n",
    "classifier.fit(X_train, y_train)\n",
    "\n",
    "score = classifier.score(X_train, y_train)\n",
    "print(\"Train score with L2 penalty: %.4f\" % score)\n",
    "\n",
    "score = classifier.score(X_test, y_test)\n",
    "print(\"Test score with L2 penalty: %.4f\" % score)"
   ]
  },
  {
   "cell_type": "markdown",
   "metadata": {
    "id": "qXTt0YThbOY_"
   },
   "source": [
    "## Thử nghiệm 2: Huấn luyện mô hình sau khi canh giữa ảnh và cắt biên"
   ]
  },
  {
   "cell_type": "markdown",
   "metadata": {
    "id": "W6WQEVX_cbmm"
   },
   "source": [
    "- Chia tập train và test"
   ]
  },
  {
   "cell_type": "code",
   "execution_count": 27,
   "metadata": {
    "id": "ee-78WADcQ3N"
   },
   "outputs": [],
   "source": [
    "X_train, X_test, y_train, y_test = train_test_split(X_center, y, test_size=1/7, random_state=0, stratify=y)"
   ]
  },
  {
   "cell_type": "markdown",
   "metadata": {
    "id": "HlflYGPIcfr7"
   },
   "source": [
    "- Chuẩn hóa dữ liệu về 0-1"
   ]
  },
  {
   "cell_type": "code",
   "execution_count": 28,
   "metadata": {
    "id": "xSOlvXLScTOA"
   },
   "outputs": [],
   "source": [
    "scaler = StandardScaler()\n",
    "X_train = scaler.fit_transform(X_train)\n",
    "X_test = scaler.transform(X_test)"
   ]
  },
  {
   "cell_type": "markdown",
   "metadata": {
    "id": "zf5hMovYcjFo"
   },
   "source": [
    "- Huấn luyện mô hình"
   ]
  },
  {
   "cell_type": "code",
   "execution_count": 29,
   "metadata": {
    "colab": {
     "base_uri": "https://localhost:8080/"
    },
    "id": "1XgOmoVtcWUk",
    "outputId": "92d23a0f-d083-4d7b-e3a2-e57ccb8ff2f1"
   },
   "outputs": [
    {
     "name": "stdout",
     "output_type": "stream",
     "text": [
      "Train score with L2 penalty: 0.9308\n",
      "Test score with L2 penalty: 0.9213\n"
     ]
    }
   ],
   "source": [
    "#Thử nghiệm với penalty l2\n",
    "classifier = LogisticRegression(penalty='l2', solver='saga', tol = 0.01, random_state=0)\n",
    "\n",
    "classifier.fit(X_train, y_train)\n",
    "\n",
    "score = classifier.score(X_train, y_train)\n",
    "print(\"Train score with L2 penalty: %.4f\" % score)\n",
    "\n",
    "score = classifier.score(X_test, y_test)\n",
    "print(\"Test score with L2 penalty: %.4f\" % score)"
   ]
  },
  {
   "cell_type": "markdown",
   "metadata": {
    "id": "L5-Iwh0bfaft"
   },
   "source": [
    "## Thử nghiệm 3: Huấn luyện mô hình sau khi loại bỏ các dòng, cột bằng 0 và chỉnh kích thước lên (28, 28)"
   ]
  },
  {
   "cell_type": "markdown",
   "metadata": {
    "id": "1TYRX3Hn5O-G"
   },
   "source": [
    "- Chia tập train và tập test"
   ]
  },
  {
   "cell_type": "code",
   "execution_count": 30,
   "metadata": {
    "id": "xQNdx_-r5O-G"
   },
   "outputs": [],
   "source": [
    "X_train, X_test, y_train, y_test = train_test_split(X, y, test_size=1/7, random_state=0, stratify=y)"
   ]
  },
  {
   "cell_type": "markdown",
   "metadata": {
    "id": "5qlgcl_LfqFk"
   },
   "source": [
    "- Loại bỏ các dòng, cột bằng 0"
   ]
  },
  {
   "cell_type": "code",
   "execution_count": 31,
   "metadata": {
    "id": "qG9-OtiRfpQ5"
   },
   "outputs": [],
   "source": [
    "image_filter = Image_Filter()\n",
    "X_train = image_filter.fit_transform(X_train)\n",
    "X_test = image_filter.fit_transform(X_test)"
   ]
  },
  {
   "cell_type": "markdown",
   "metadata": {
    "id": "EjZIFVB95O-H"
   },
   "source": [
    "- Chuẩn hóa dữ liệu về 0-1 với dữ liệu gốc"
   ]
  },
  {
   "cell_type": "code",
   "execution_count": 32,
   "metadata": {
    "id": "ihZe0cTh5O-H"
   },
   "outputs": [],
   "source": [
    "scaler = StandardScaler()\n",
    "X_train = scaler.fit_transform(X_train)\n",
    "X_test = scaler.transform(X_test)"
   ]
  },
  {
   "cell_type": "markdown",
   "metadata": {
    "id": "82RqrBlk5O-H"
   },
   "source": [
    "- Huấn luyện mô hình"
   ]
  },
  {
   "cell_type": "code",
   "execution_count": 33,
   "metadata": {
    "id": "DgFG7RT65O-H"
   },
   "outputs": [],
   "source": [
    "classifier = LogisticRegression(penalty='l2', solver='saga', tol=0.01, random_state = 0)"
   ]
  },
  {
   "cell_type": "code",
   "execution_count": 34,
   "metadata": {
    "colab": {
     "base_uri": "https://localhost:8080/"
    },
    "id": "q_lTXX8w5O-H",
    "outputId": "96384f64-9905-4757-dbe4-b67e946689aa"
   },
   "outputs": [
    {
     "name": "stdout",
     "output_type": "stream",
     "text": [
      "Train score with L2 penalty: 0.9476\n",
      "Test score with L2 penalty: 0.9373\n"
     ]
    }
   ],
   "source": [
    "classifier.fit(X_train, y_train)\n",
    "\n",
    "score = classifier.score(X_train, y_train)\n",
    "print(\"Train score with L2 penalty: %.4f\" % score)\n",
    "\n",
    "score = classifier.score(X_test, y_test)\n",
    "print(\"Test score with L2 penalty: %.4f\" % score)"
   ]
  },
  {
   "cell_type": "markdown",
   "metadata": {
    "id": "b5Lt1aRSfmU6"
   },
   "source": [
    "## Thử nghiệm 4: Huấn luyện mô hình sau khi PCA"
   ]
  },
  {
   "cell_type": "markdown",
   "metadata": {
    "id": "HOLrZT9u5O-I"
   },
   "source": [
    "- Chia tập train và tập test"
   ]
  },
  {
   "cell_type": "code",
   "execution_count": 35,
   "metadata": {
    "id": "NNcCMAa95O-I"
   },
   "outputs": [],
   "source": [
    "X_train, X_test, y_train, y_test = train_test_split(X, y, test_size=1/7, random_state=0, stratify=y)"
   ]
  },
  {
   "cell_type": "markdown",
   "metadata": {
    "id": "w7u5tiLy5O-I"
   },
   "source": [
    "- Chuẩn hóa dữ liệu về 0-1 với dữ liệu gốc"
   ]
  },
  {
   "cell_type": "code",
   "execution_count": 36,
   "metadata": {
    "id": "i5mOij995O-I"
   },
   "outputs": [],
   "source": [
    "scaler = StandardScaler()\n",
    "X_train = scaler.fit_transform(X_train)\n",
    "X_test = scaler.transform(X_test)"
   ]
  },
  {
   "cell_type": "markdown",
   "metadata": {
    "id": "U1UGwkZs5O-I"
   },
   "source": [
    "- Sử dụng PCA"
   ]
  },
  {
   "cell_type": "code",
   "execution_count": 37,
   "metadata": {
    "id": "Ar5mff1A5O-I"
   },
   "outputs": [],
   "source": [
    "pca = PCA(n_components= 600, random_state=0)\n",
    "X_train = pca.fit_transform(X_train)\n",
    "X_test = pca.transform(X_test)"
   ]
  },
  {
   "cell_type": "markdown",
   "metadata": {
    "id": "1eIvFVxx5O-J"
   },
   "source": [
    "- Huấn luyện mô hình"
   ]
  },
  {
   "cell_type": "code",
   "execution_count": 38,
   "metadata": {
    "id": "zlCKY8nQ5O-J"
   },
   "outputs": [],
   "source": [
    "classifier = LogisticRegression(penalty='l2', solver='saga', tol=0.01, random_state = 0)"
   ]
  },
  {
   "cell_type": "code",
   "execution_count": 39,
   "metadata": {
    "colab": {
     "base_uri": "https://localhost:8080/"
    },
    "id": "NTBypkKz5O-J",
    "outputId": "f9eca5a3-b711-4af6-d4d7-3bc74ef047b1"
   },
   "outputs": [
    {
     "name": "stdout",
     "output_type": "stream",
     "text": [
      "Train score with L2 penalty: 0.9096\n",
      "Test score with L2 penalty: 0.9080\n"
     ]
    }
   ],
   "source": [
    "classifier.fit(X_train, y_train)\n",
    "\n",
    "score = classifier.score(X_train, y_train)\n",
    "print(\"Train score with L2 penalty: %.4f\" % score)\n",
    "\n",
    "score = classifier.score(X_test, y_test)\n",
    "print(\"Test score with L2 penalty: %.4f\" % score)"
   ]
  },
  {
   "cell_type": "markdown",
   "metadata": {
    "id": "cpJTBircftOi"
   },
   "source": [
    "## Thử nghiệm 5: Kết hợp thử nghiệm 3 với 4."
   ]
  },
  {
   "cell_type": "markdown",
   "metadata": {
    "id": "VMAi6m5U5O-J"
   },
   "source": [
    "- Chia tập train và tập test"
   ]
  },
  {
   "cell_type": "code",
   "execution_count": 40,
   "metadata": {
    "id": "pQqg9kAH5O-J"
   },
   "outputs": [],
   "source": [
    "X_train, X_test, y_train, y_test = train_test_split(X, y, test_size=1/7, random_state=0, stratify=y)"
   ]
  },
  {
   "cell_type": "markdown",
   "metadata": {
    "id": "O_LiU64LgJeR"
   },
   "source": [
    "- Loại bỏ các dòng, cột bằng 0"
   ]
  },
  {
   "cell_type": "code",
   "execution_count": 41,
   "metadata": {
    "id": "pCoPRdZKgJNi"
   },
   "outputs": [],
   "source": [
    "image_filter = Image_Filter()\n",
    "X_train = image_filter.fit_transform(X_train)\n",
    "X_test = image_filter.fit_transform(X_test)"
   ]
  },
  {
   "cell_type": "markdown",
   "metadata": {
    "id": "eDeTWYGe5O-K"
   },
   "source": [
    "- Chuẩn hóa dữ liệu về 0-1 với dữ liệu gốc"
   ]
  },
  {
   "cell_type": "code",
   "execution_count": 42,
   "metadata": {
    "id": "GpvkJFjc5O-K"
   },
   "outputs": [],
   "source": [
    "scaler = StandardScaler()\n",
    "X_train = scaler.fit_transform(X_train)\n",
    "X_test = scaler.transform(X_test)"
   ]
  },
  {
   "cell_type": "markdown",
   "metadata": {
    "id": "N2WP4A615O-K"
   },
   "source": [
    "- Sử dụng PCA"
   ]
  },
  {
   "cell_type": "code",
   "execution_count": 43,
   "metadata": {
    "id": "s3h8gtiH5O-K"
   },
   "outputs": [],
   "source": [
    "pca = PCA(n_components= 600, random_state = 0)\n",
    "X_train = pca.fit_transform(X_train)\n",
    "X_test = pca.transform(X_test)"
   ]
  },
  {
   "cell_type": "markdown",
   "metadata": {
    "id": "P4v2lWoy5O-K"
   },
   "source": [
    "- Huấn luyện mô hình"
   ]
  },
  {
   "cell_type": "code",
   "execution_count": 44,
   "metadata": {
    "id": "e1Bkqvqf5O-K"
   },
   "outputs": [],
   "source": [
    "classifier = LogisticRegression(penalty='l2', solver='saga', tol=0.01, random_state = 0)"
   ]
  },
  {
   "cell_type": "code",
   "execution_count": 45,
   "metadata": {
    "colab": {
     "base_uri": "https://localhost:8080/"
    },
    "id": "pXR8eM7G5O-K",
    "outputId": "bfb85158-46e9-489a-b087-bc22b72f93db"
   },
   "outputs": [
    {
     "name": "stdout",
     "output_type": "stream",
     "text": [
      "Train score with L2 penalty: 0.9490\n",
      "Test score with L2 penalty: 0.9369\n"
     ]
    }
   ],
   "source": [
    "classifier.fit(X_train, y_train)\n",
    "\n",
    "score = classifier.score(X_train, y_train)\n",
    "print(\"Train score with L2 penalty: %.4f\" % score)\n",
    "\n",
    "score = classifier.score(X_test, y_test)\n",
    "print(\"Test score with L2 penalty: %.4f\" % score)"
   ]
  },
  {
   "cell_type": "markdown",
   "metadata": {
    "id": "aR-x2lNhfy-E"
   },
   "source": [
    "## Thử nghiệm 6: Huấn luyện mô hình như ở thử nghiệm 4 sử dụng ảnh đã cắt hết dòng, cột bằng 0 nhưng sử dụng thêm PolynomialFeatures"
   ]
  },
  {
   "cell_type": "markdown",
   "metadata": {
    "id": "14fqwXHF5O-L"
   },
   "source": [
    "- Chia tập train và tập test"
   ]
  },
  {
   "cell_type": "code",
   "execution_count": 46,
   "metadata": {
    "id": "YzM_Na_D5O-L"
   },
   "outputs": [],
   "source": [
    "X_train, X_test, y_train, y_test = train_test_split(X, y, test_size=1/7, random_state=0, stratify=y)"
   ]
  },
  {
   "cell_type": "markdown",
   "metadata": {
    "id": "yxHdk6AlB2nS"
   },
   "source": [
    "- Tạo pipeline"
   ]
  },
  {
   "cell_type": "code",
   "execution_count": 47,
   "metadata": {
    "id": "T-hWrcv5B0pc"
   },
   "outputs": [],
   "source": [
    "pipeline = Pipeline([('image_filter', Image_Filter()),\n",
    "                     ('pca',PCA(n_components= 70, svd_solver=\"randomized\", random_state = 0)),\n",
    "                     ('poly', PolynomialFeatures(include_bias = True, interaction_only = True)),\n",
    "                     ('scaler', StandardScaler()), \n",
    "                     ('classifier', LogisticRegression(penalty='l2', solver='saga', tol = 0.01, random_state = 0))])"
   ]
  },
  {
   "cell_type": "markdown",
   "metadata": {
    "id": "DxU6suw3FiQe"
   },
   "source": [
    "- Huấn luyện mô hình"
   ]
  },
  {
   "cell_type": "code",
   "execution_count": 48,
   "metadata": {
    "colab": {
     "base_uri": "https://localhost:8080/"
    },
    "id": "T5gMjjEV3nLb",
    "outputId": "e137fb4a-04fb-4ad1-a2c7-37d3b1b0da23"
   },
   "outputs": [
    {
     "name": "stdout",
     "output_type": "stream",
     "text": [
      "Train score with L2 penalty: 0.9993\n",
      "Test score with L2 penalty: 0.9820\n"
     ]
    }
   ],
   "source": [
    "pipeline.fit(X_train, y_train)\n",
    "\n",
    "score = pipeline.score(X_train, y_train)\n",
    "print(\"Train score with L2 penalty: %.4f\" % score)\n",
    "\n",
    "score = pipeline.score(X_test, y_test)\n",
    "print(\"Test score with L2 penalty: %.4f\" % score)"
   ]
  },
  {
   "cell_type": "markdown",
   "metadata": {
    "id": "h2NRgxZSIsqA"
   },
   "source": [
    "## Thử nghiệm 7: Sử dụng Data Augmentation kết hợp thử nghiệm 6"
   ]
  },
  {
   "cell_type": "markdown",
   "metadata": {
    "id": "JI1vyeslMo5L"
   },
   "source": [
    "- Chia tập train và tập test"
   ]
  },
  {
   "cell_type": "code",
   "execution_count": 49,
   "metadata": {
    "id": "pV8xSgA-MoYH"
   },
   "outputs": [],
   "source": [
    "X_train, X_test, y_train, y_test = train_test_split(X, y, test_size=1/7, random_state=0, stratify=y)"
   ]
  },
  {
   "cell_type": "markdown",
   "metadata": {
    "id": "tWyT1hUAN0FX"
   },
   "source": [
    "- Các hàm cần cho việc tạo dữ liệu từ việc xoay ảnh"
   ]
  },
  {
   "cell_type": "code",
   "execution_count": 50,
   "metadata": {
    "id": "eEigwcG9IsHH"
   },
   "outputs": [],
   "source": [
    "def sharpening(X, tol, add):\n",
    "    X_copy = X.copy()\n",
    "    X_copy[X_copy>0] = X_copy[X_copy>0] + add\n",
    "    X_copy[X_copy>255] = 255\n",
    "    X_copy[X_copy<tol] = 0 \n",
    "    return X_copy\n",
    "\n",
    "def rotate_image(X, h, w, angle):\n",
    "    image = X.reshape(h, w)\n",
    "    center = (w / 2, h / 2)  \n",
    "    M = cv.getRotationMatrix2D(center, angle, 1.0)  \n",
    "    rotated_image = cv.warpAffine(image, M, (h, w))\n",
    "    rotated_image =  sharpening(rotated_image.reshape(-1), 100, 40)   \n",
    "    return rotated_image\n",
    "\n",
    "def crete_rotated_sample(X, y, angle):\n",
    "    X_rotated = np.apply_along_axis(rotate_image, axis=1, arr=X, h=28, w=28, angle=angle)\n",
    "    y_rotated = y\n",
    "    return X_rotated, y_rotated"
   ]
  },
  {
   "cell_type": "markdown",
   "metadata": {},
   "source": [
    "- Thử nghiệm xoay ảnh"
   ]
  },
  {
   "cell_type": "markdown",
   "metadata": {},
   "source": [
    "Ảnh trước khi xoay"
   ]
  },
  {
   "cell_type": "code",
   "execution_count": 51,
   "metadata": {},
   "outputs": [
    {
     "data": {
      "text/plain": [
       "<matplotlib.colorbar.Colorbar at 0x1e901d408b0>"
      ]
     },
     "execution_count": 51,
     "metadata": {},
     "output_type": "execute_result"
    },
    {
     "data": {
      "image/png": "[encoded data removed]",
      "text/plain": [
       "<Figure size 432x288 with 2 Axes>"
      ]
     },
     "metadata": {
      "needs_background": "light"
     },
     "output_type": "display_data"
    }
   ],
   "source": [
    "plt.imshow(X[22, :].reshape(28, 28), cmap=plt.cm.binary)\n",
    "plt.axis(\"off\")\n",
    "plt.colorbar()"
   ]
  },
  {
   "cell_type": "markdown",
   "metadata": {},
   "source": [
    "Ảnh sau khi xoay"
   ]
  },
  {
   "cell_type": "code",
   "execution_count": 52,
   "metadata": {},
   "outputs": [
    {
     "data": {
      "text/plain": [
       "<matplotlib.colorbar.Colorbar at 0x1e900608910>"
      ]
     },
     "execution_count": 52,
     "metadata": {},
     "output_type": "execute_result"
    },
    {
     "data": {
      "image/png": "[encoded data removed]",
      "text/plain": [
       "<Figure size 432x288 with 2 Axes>"
      ]
     },
     "metadata": {
      "needs_background": "light"
     },
     "output_type": "display_data"
    }
   ],
   "source": [
    "plt.imshow(rotate_image(X[22], 28, 28, 20).reshape(28, 28), cmap=plt.cm.binary)\n",
    "plt.axis(\"off\")\n",
    "plt.colorbar()"
   ]
  },
  {
   "cell_type": "markdown",
   "metadata": {},
   "source": [
    "- Xoay ảnh trên tập train"
   ]
  },
  {
   "cell_type": "code",
   "execution_count": 53,
   "metadata": {
    "id": "GKr9tArRJ44s"
   },
   "outputs": [],
   "source": [
    "#angle = [20, -20, 15, -15]\n",
    "angle = [10, -10, 5, -5]\n",
    "X_rotated, y_rotated = crete_rotated_sample(X_train, y_train, angle[0])\n",
    "X_temp = X_rotated\n",
    "y_temp = y_rotated\n",
    "for i in range(1, len(angle)):\n",
    "    X_rotated, y_rotated = crete_rotated_sample(X_train, y_train, angle[i])\n",
    "    X_temp = np.concatenate((X_rotated, X_temp), axis=0)\n",
    "    y_temp = np.concatenate((y_rotated, y_temp), axis=0)"
   ]
  },
  {
   "cell_type": "code",
   "execution_count": 54,
   "metadata": {
    "id": "35YFn5IzKBoK"
   },
   "outputs": [],
   "source": [
    "X_train = np.concatenate((X_train, X_temp), axis=0)\n",
    "y_train = np.concatenate((y_train, y_temp), axis=0)"
   ]
  },
  {
   "cell_type": "markdown",
   "metadata": {},
   "source": [
    "- Tập X_train lúc này có bao nhiêu dòng, cột?"
   ]
  },
  {
   "cell_type": "code",
   "execution_count": 55,
   "metadata": {},
   "outputs": [
    {
     "data": {
      "text/plain": [
       "(300000, 784)"
      ]
     },
     "execution_count": 55,
     "metadata": {},
     "output_type": "execute_result"
    }
   ],
   "source": [
    "X_train.shape"
   ]
  },
  {
   "cell_type": "markdown",
   "metadata": {},
   "source": [
    "- Tập y_train lúc này có bao nhiêu dòng, cột?"
   ]
  },
  {
   "cell_type": "code",
   "execution_count": 56,
   "metadata": {},
   "outputs": [
    {
     "data": {
      "text/plain": [
       "(300000,)"
      ]
     },
     "execution_count": 56,
     "metadata": {},
     "output_type": "execute_result"
    }
   ],
   "source": [
    "y_train.shape"
   ]
  },
  {
   "cell_type": "markdown",
   "metadata": {
    "id": "sLcJdCgXNj3p"
   },
   "source": [
    "- Tạo pipeline"
   ]
  },
  {
   "cell_type": "code",
   "execution_count": 57,
   "metadata": {
    "id": "qo5IKxz_NW2M"
   },
   "outputs": [],
   "source": [
    "pipeline = Pipeline([('image_filter', Image_Filter()),\n",
    "                     ('pca', PCA(n_components= 70, svd_solver=\"randomized\", random_state = 0)),\n",
    "                     ('poly', PolynomialFeatures(include_bias = True, interaction_only= True)),\n",
    "                     ('scaler', StandardScaler()), \n",
    "                     ('classifier', LogisticRegression(penalty='l2', solver='saga', tol=0.01, random_state = 0))])"
   ]
  },
  {
   "cell_type": "markdown",
   "metadata": {
    "id": "6MzNftIHNlhc"
   },
   "source": [
    "- Huấn luyện mô hình"
   ]
  },
  {
   "cell_type": "code",
   "execution_count": 58,
   "metadata": {
    "id": "WfBtaCAfNgpt"
   },
   "outputs": [
    {
     "name": "stdout",
     "output_type": "stream",
     "text": [
      "Train score with L2 penalty: 0.9988\n",
      "Test score with L2 penalty: 0.9849\n"
     ]
    }
   ],
   "source": [
    "pipeline.fit(X_train, y_train)\n",
    "\n",
    "score = pipeline.score(X_train, y_train)\n",
    "print(\"Train score with L2 penalty: %.4f\" % score)\n",
    "\n",
    "score = pipeline.score(X_test, y_test)\n",
    "print(\"Test score with L2 penalty: %.4f\" % score)"
   ]
  },
  {
   "cell_type": "markdown",
   "metadata": {},
   "source": [
    "---"
   ]
  },
  {
   "cell_type": "markdown",
   "metadata": {
    "id": "WxWDhk9PME8E"
   },
   "source": [
    "# Vẽ Confusion Matrix với mô hình tốt nhất"
   ]
  },
  {
   "cell_type": "markdown",
   "metadata": {
    "id": "MLW0Rg4-d0-c"
   },
   "source": [
    "## Tập train"
   ]
  },
  {
   "cell_type": "code",
   "execution_count": 59,
   "metadata": {
    "id": "1mXijKhud4Cj"
   },
   "outputs": [
    {
     "data": {
      "image/png": "[encoded data removed]",
      "text/plain": [
       "<Figure size 1500x1000 with 2 Axes>"
      ]
     },
     "metadata": {
      "needs_background": "light"
     },
     "output_type": "display_data"
    }
   ],
   "source": [
    "predict_train_y = pipeline.predict(X_train)\n",
    "label = np.unique(y_train)\n",
    "Confusion_Matrix = confusion_matrix(y_train, predict_train_y)\n",
    "plt.figure(dpi=250)\n",
    "plt.rcParams.update({'font.size': 6})\n",
    "axes = plt.axes()\n",
    "cm_display = ConfusionMatrixDisplay(Confusion_Matrix, label).plot(cmap='Blues',values_format='', ax = axes)"
   ]
  },
  {
   "cell_type": "markdown",
   "metadata": {
    "id": "9kwUTI2smAjx"
   },
   "source": [
    "- Độ đo của từng lớp trong tập train"
   ]
  },
  {
   "cell_type": "code",
   "execution_count": 60,
   "metadata": {
    "id": "LWtIfFOQl69v"
   },
   "outputs": [
    {
     "name": "stdout",
     "output_type": "stream",
     "text": [
      "              precision    recall  f1-score   support\n",
      "\n",
      "           0   0.999797  0.999932  0.999865     29585\n",
      "           1   0.998815  0.998963  0.998889     33760\n",
      "           2   0.999099  0.998965  0.999032     29955\n",
      "           3   0.999281  0.999281  0.999281     30605\n",
      "           4   0.998257  0.998632  0.998444     29245\n",
      "           5   0.999224  0.998965  0.999094     27055\n",
      "           6   0.999796  0.999864  0.999830     29470\n",
      "           7   0.997060  0.998144  0.997602     31255\n",
      "           8   0.998871  0.998530  0.998701     29250\n",
      "           9   0.998254  0.997082  0.997668     29820\n",
      "\n",
      "    accuracy                       0.998833    300000\n",
      "   macro avg   0.998845  0.998836  0.998841    300000\n",
      "weighted avg   0.998833  0.998833  0.998833    300000\n",
      "\n"
     ]
    }
   ],
   "source": [
    "print(classification_report(y_train, predict_train_y, target_names=label, digits=6))"
   ]
  },
  {
   "cell_type": "markdown",
   "metadata": {
    "id": "e7AOoH3kl8iR"
   },
   "source": [
    "## Tập test"
   ]
  },
  {
   "cell_type": "code",
   "execution_count": 61,
   "metadata": {
    "id": "CHb6kBx_MEAb"
   },
   "outputs": [
    {
     "data": {
      "image/png": "[encoded data removed]",
      "text/plain": [
       "<Figure size 1500x1000 with 2 Axes>"
      ]
     },
     "metadata": {
      "needs_background": "light"
     },
     "output_type": "display_data"
    }
   ],
   "source": [
    "predict_test_y = pipeline.predict(X_test)\n",
    "label = np.unique(y_test)\n",
    "Confusion_Matrix = confusion_matrix(y_test, predict_test_y)\n",
    "plt.figure(dpi=250)\n",
    "plt.rcParams.update({'font.size': 6})\n",
    "axes = plt.axes()\n",
    "cm_display = ConfusionMatrixDisplay(Confusion_Matrix, label).plot(cmap='Blues',values_format='', ax = axes)"
   ]
  },
  {
   "cell_type": "markdown",
   "metadata": {
    "id": "SzfoSzoEmD03"
   },
   "source": [
    "- Độ đo của từng lớp trong tập test"
   ]
  },
  {
   "cell_type": "code",
   "execution_count": 62,
   "metadata": {
    "id": "kgTgqBX9pnRQ"
   },
   "outputs": [
    {
     "name": "stdout",
     "output_type": "stream",
     "text": [
      "              precision    recall  f1-score   support\n",
      "\n",
      "           0   0.996933  0.988844  0.992872       986\n",
      "           1   0.981611  0.996444  0.988972      1125\n",
      "           2   0.980060  0.983984  0.982018       999\n",
      "           3   0.989163  0.984314  0.986732      1020\n",
      "           4   0.984694  0.989744  0.987212       975\n",
      "           5   0.986637  0.982262  0.984444       902\n",
      "           6   0.983822  0.990835  0.987316       982\n",
      "           7   0.982841  0.989443  0.986131      1042\n",
      "           8   0.980188  0.964103  0.972079       975\n",
      "           9   0.983789  0.976861  0.980313       994\n",
      "\n",
      "    accuracy                       0.984900     10000\n",
      "   macro avg   0.984974  0.984683  0.984809     10000\n",
      "weighted avg   0.984914  0.984900  0.984887     10000\n",
      "\n"
     ]
    }
   ],
   "source": [
    "print(classification_report(y_test, predict_test_y, target_names=label, digits=6))"
   ]
  }
 ],
 "metadata": {
  "colab": {
   "collapsed_sections": [],
   "name": "Lab2_Logistic.ipynb",
   "provenance": []
  },
  "kernelspec": {
   "display_name": "Python 3",
   "language": "python",
   "name": "python3"
  },
  "language_info": {
   "codemirror_mode": {
    "name": "ipython",
    "version": 3
   },
   "file_extension": ".py",
   "mimetype": "text/x-python",
   "name": "python",
   "nbconvert_exporter": "python",
   "pygments_lexer": "ipython3",
   "version": "3.8.5"
  },
  "toc": {
   "base_numbering": 1,
   "nav_menu": {},
   "number_sections": true,
   "sideBar": true,
   "skip_h1_title": false,
   "title_cell": "Table of Contents",
   "title_sidebar": "Contents",
   "toc_cell": true,
   "toc_position": {},
   "toc_section_display": true,
   "toc_window_display": true
  }
 },
 "nbformat": 4,
 "nbformat_minor": 1
}
